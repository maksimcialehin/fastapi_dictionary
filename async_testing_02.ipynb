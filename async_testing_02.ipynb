{
 "cells": [
  {
   "cell_type": "code",
   "execution_count": 12,
   "metadata": {},
   "outputs": [],
   "source": [
    "import aiohttp\n",
    "import time\n",
    "import asyncio"
   ]
  },
  {
   "cell_type": "code",
   "execution_count": 13,
   "metadata": {},
   "outputs": [],
   "source": [
    "URL = 'http://127.0.0.1:8000/'\n",
    "URLS = []"
   ]
  },
  {
   "cell_type": "code",
   "execution_count": 14,
   "metadata": {},
   "outputs": [],
   "source": [
    "for i in range(10):\n",
    "    URLS.append(URL)\n",
    "\n",
    "async def test(URL):\n",
    "    async with aiohttp.ClientSession() as session:\n",
    "        async with session.post(URL) as resp:\n",
    "            return await resp.text()"
   ]
  },
  {
   "cell_type": "code",
   "execution_count": null,
   "metadata": {},
   "outputs": [],
   "source": []
  },
  {
   "cell_type": "code",
   "execution_count": 16,
   "metadata": {},
   "outputs": [
    {
     "name": "stdout",
     "output_type": "stream",
     "text": [
      "Time: 0.029998302459716797\n"
     ]
    }
   ],
   "source": [
    "start = time.time()\n",
    "loop = asyncio.get_event_loop()\n",
    "results = await asyncio.gather(*[loop.create_task(test(URL)) for URL in URLS], return_exceptions=True)\n",
    "print(f'Time: {time.time() - start}')"
   ]
  }
 ],
 "metadata": {
  "kernelspec": {
   "display_name": "venv",
   "language": "python",
   "name": "python3"
  },
  "language_info": {
   "codemirror_mode": {
    "name": "ipython",
    "version": 3
   },
   "file_extension": ".py",
   "mimetype": "text/x-python",
   "name": "python",
   "nbconvert_exporter": "python",
   "pygments_lexer": "ipython3",
   "version": "3.10.1 (tags/v3.10.1:2cd268a, Dec  6 2021, 19:10:37) [MSC v.1929 64 bit (AMD64)]"
  },
  "orig_nbformat": 4,
  "vscode": {
   "interpreter": {
    "hash": "50a065e68202f651a24d064cd175e5cb1539b5fa9fc44fae2e00e44d5be07513"
   }
  }
 },
 "nbformat": 4,
 "nbformat_minor": 2
}
